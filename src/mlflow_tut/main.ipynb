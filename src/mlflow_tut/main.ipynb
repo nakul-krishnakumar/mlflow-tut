{
 "cells": [
  {
   "cell_type": "code",
   "execution_count": 1,
   "id": "37bf3767",
   "metadata": {},
   "outputs": [],
   "source": [
    "import mlflow\n",
    "# import torch"
   ]
  },
  {
   "cell_type": "code",
   "execution_count": 7,
   "id": "0aa2d19c",
   "metadata": {},
   "outputs": [],
   "source": [
    "# set mlflow tracking uri (location to store exp and run data)\n",
    "mlflow.set_tracking_uri(uri=\"../../mlruns\")"
   ]
  },
  {
   "cell_type": "code",
   "execution_count": 8,
   "id": "10179fd2",
   "metadata": {},
   "outputs": [
    {
     "name": "stdout",
     "output_type": "stream",
     "text": [
      "Experiment already exists with ID: 243891594606546977\n"
     ]
    }
   ],
   "source": [
    "exp_name = \"creating-experiments\"\n",
    "\n",
    "experiment = mlflow.get_experiment_by_name(exp_name)\n",
    "\n",
    "if experiment is None:\n",
    "   exp_id = mlflow.create_experiment(\"creating-experiments\", tags={\n",
    "      \"topic\": \"experiment-management\",\n",
    "      \"version\": \"v1\"\n",
    "   })\n",
    "\n",
    "   print(f\"Experiment created with ID: {exp_id}\")\n",
    "\n",
    "else:\n",
    "   exp_id = experiment.experiment_id\n",
    "   print(f\"Experiment already exists with ID: {exp_id}\")"
   ]
  },
  {
   "cell_type": "code",
   "execution_count": 15,
   "id": "7bf5018a",
   "metadata": {},
   "outputs": [
    {
     "data": {
      "text/plain": [
       "<Experiment: artifact_location='/home/nakul/devfiles/Python/mlflow-tut/src/mlflow_tut/../../mlruns/243891594606546977', creation_time=1749488386349, experiment_id='243891594606546977', last_update_time=1749488386349, lifecycle_stage='active', name='creating-experiments', tags={'topic': 'experiment-management', 'version': 'v1'}>"
      ]
     },
     "execution_count": 15,
     "metadata": {},
     "output_type": "execute_result"
    }
   ],
   "source": [
    "# Setting the current experiment as the one we created above\n",
    "mlflow.set_experiment(experiment_id=exp_id)\n",
    "\n",
    "# Here, if an experiment with the given exp_name doesn't exist, mlflow will on its own create a new experiment and set it to current with the given exp_name. The drawback here is we cant pass artifact locations or tags directly in set_experiment() function\n",
    "\n",
    "# But this wont work when we are passing exp_id to set_experiment(). If exp with exp_id doesn't exist then it will show err"
   ]
  },
  {
   "cell_type": "code",
   "execution_count": 13,
   "id": "a1378d8b",
   "metadata": {},
   "outputs": [
    {
     "name": "stdout",
     "output_type": "stream",
     "text": [
      "Active run_id: 6b4cf95a95c5428a8469d4afbcc4952a\n",
      "Active exp_id: 243891594606546977\n"
     ]
    }
   ],
   "source": [
    "# Now we will start a new run in the experiment\n",
    "with mlflow.start_run() as run:\n",
    "   print(f\"Active run_id: {run.info.run_id}\")\n",
    "   print(f\"Active exp_id: {run.info.experiment_id}\")"
   ]
  },
  {
   "cell_type": "code",
   "execution_count": null,
   "id": "1c5aafb1",
   "metadata": {},
   "outputs": [],
   "source": []
  }
 ],
 "metadata": {
  "kernelspec": {
   "display_name": "mlflow-tut-87emS356-py3.12",
   "language": "python",
   "name": "python3"
  },
  "language_info": {
   "codemirror_mode": {
    "name": "ipython",
    "version": 3
   },
   "file_extension": ".py",
   "mimetype": "text/x-python",
   "name": "python",
   "nbconvert_exporter": "python",
   "pygments_lexer": "ipython3",
   "version": "3.12.3"
  }
 },
 "nbformat": 4,
 "nbformat_minor": 5
}
