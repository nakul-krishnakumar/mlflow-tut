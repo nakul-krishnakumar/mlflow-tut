{
 "cells": [
  {
   "cell_type": "code",
   "execution_count": 2,
   "id": "37bf3767",
   "metadata": {},
   "outputs": [],
   "source": [
    "import mlflow\n",
    "# import torch"
   ]
  },
  {
   "cell_type": "code",
   "execution_count": 3,
   "id": "0aa2d19c",
   "metadata": {},
   "outputs": [],
   "source": [
    "# set mlflow tracking uri (location to store exp and run data)\n",
    "mlflow.set_tracking_uri(uri=\"../../mlruns\")"
   ]
  },
  {
   "cell_type": "code",
   "execution_count": 4,
   "id": "931497be",
   "metadata": {},
   "outputs": [],
   "source": [
    "client = mlflow.MlflowClient()"
   ]
  },
  {
   "cell_type": "markdown",
   "id": "6666dc63",
   "metadata": {},
   "source": [
    "## Creating and Setting Experiments"
   ]
  },
  {
   "cell_type": "code",
   "execution_count": 5,
   "id": "10179fd2",
   "metadata": {},
   "outputs": [
    {
     "name": "stdout",
     "output_type": "stream",
     "text": [
      "Experiment already exists with ID: 243891594606546977\n"
     ]
    }
   ],
   "source": [
    "exp_name = \"creating-experiments\"\n",
    "\n",
    "experiment = client.get_experiment_by_name(exp_name)\n",
    "\n",
    "if experiment is None:\n",
    "   exp_id = client.create_experiment(\"creating-experiments\", tags={\n",
    "      \"topic\": \"experiment-management\",\n",
    "      \"version\": \"v1\"\n",
    "   })\n",
    "\n",
    "   print(f\"Experiment created with ID: {exp_id}\")\n",
    "\n",
    "else:\n",
    "   exp_id = experiment.experiment_id\n",
    "   print(f\"Experiment already exists with ID: {exp_id}\")"
   ]
  },
  {
   "cell_type": "code",
   "execution_count": 6,
   "id": "7bf5018a",
   "metadata": {},
   "outputs": [
    {
     "data": {
      "text/plain": [
       "experiment_id: \"243891594606546977\"\n",
       "name: \"creating-experiments\"\n",
       "artifact_location: \"/home/nakul/devfiles/Python/mlflow-tut/src/mlflow_tut/../../mlruns/243891594606546977\"\n",
       "lifecycle_stage: \"active\"\n",
       "last_update_time: 1749488386349\n",
       "creation_time: 1749488386349\n",
       "tags {\n",
       "  key: \"version\"\n",
       "  value: \"v2\"\n",
       "}\n",
       "tags {\n",
       "  key: \"new-tag\"\n",
       "  value: \"updated-value\"\n",
       "}\n",
       "tags {\n",
       "  key: \"mlflow.note.content\"\n",
       "  value: \"This is the description for the experiment\"\n",
       "}\n",
       "tags {\n",
       "  key: \"topic\"\n",
       "  value: \"experiment-management\"\n",
       "}"
      ]
     },
     "execution_count": 6,
     "metadata": {},
     "output_type": "execute_result"
    }
   ],
   "source": [
    "# Setting the current experiment as the one we created above\n",
    "experiment = mlflow.set_experiment(experiment_id=exp_id)\n",
    "\n",
    "# Here, if an experiment with the given exp_name doesn't exist, mlflow will on its own create a new experiment and set it to current with the given exp_name. The drawback here is we cant pass artifact locations or tags directly in set_experiment() function\n",
    "\n",
    "# But this wont work when we are passing exp_id to set_experiment(). If exp with exp_id doesn't exist then it will show err.\n",
    "\n",
    "# Get experiment details\n",
    "experiment.to_proto()"
   ]
  },
  {
   "cell_type": "markdown",
   "id": "bf7713e6",
   "metadata": {},
   "source": [
    "## Updating an Experiment"
   ]
  },
  {
   "cell_type": "code",
   "execution_count": 7,
   "id": "4e562d78",
   "metadata": {},
   "outputs": [],
   "source": [
    "# Update the current experiment\n",
    "mlflow.set_experiment_tag(\"new-tag\", \"new-value\")\n",
    "client.set_experiment_tag(exp_id, \"new-tag\", \"newer-value\")\n",
    "mlflow.set_experiment_tags({\n",
    "   \"new-tag\":\"updated-value\",\n",
    "   \"version\": \"v2\"\n",
    "})"
   ]
  },
  {
   "cell_type": "markdown",
   "id": "33391e14",
   "metadata": {},
   "source": [
    "## Special Tags"
   ]
  },
  {
   "cell_type": "code",
   "execution_count": 8,
   "id": "4aedcbf9",
   "metadata": {},
   "outputs": [],
   "source": [
    "# This tag sets the description for the experiment which can be viewed in mlflow ui\n",
    "mlflow.set_experiment_tag(\"mlflow.note.content\", \"This is the description for the experiment\")"
   ]
  },
  {
   "cell_type": "markdown",
   "id": "145fe7e3",
   "metadata": {},
   "source": [
    "## Starting a New Run"
   ]
  },
  {
   "cell_type": "code",
   "execution_count": 9,
   "id": "c2336b6a",
   "metadata": {},
   "outputs": [],
   "source": [
    "# Or we can create a run object\n",
    "run = mlflow.start_run()"
   ]
  },
  {
   "cell_type": "code",
   "execution_count": 10,
   "id": "fad1f32d",
   "metadata": {},
   "outputs": [
    {
     "name": "stdout",
     "output_type": "stream",
     "text": [
      "ActiveRun\n"
     ]
    }
   ],
   "source": [
    "print(type(run).__name__)"
   ]
  },
  {
   "cell_type": "code",
   "execution_count": 11,
   "id": "c37948d6",
   "metadata": {},
   "outputs": [
    {
     "data": {
      "text/plain": [
       "run_uuid: \"c5f27d40fea14f5c8e4a45c54b6727fe\"\n",
       "experiment_id: \"243891594606546977\"\n",
       "run_name: \"adventurous-carp-264\"\n",
       "user_id: \"nakul\"\n",
       "status: RUNNING\n",
       "start_time: 1749533095553\n",
       "artifact_uri: \"/home/nakul/devfiles/Python/mlflow-tut/src/mlflow_tut/../../mlruns/243891594606546977/c5f27d40fea14f5c8e4a45c54b6727fe/artifacts\"\n",
       "lifecycle_stage: \"active\"\n",
       "run_id: \"c5f27d40fea14f5c8e4a45c54b6727fe\""
      ]
     },
     "execution_count": 11,
     "metadata": {},
     "output_type": "execute_result"
    }
   ],
   "source": [
    "run.info.to_proto()"
   ]
  },
  {
   "cell_type": "code",
   "execution_count": 12,
   "id": "6f5df485",
   "metadata": {},
   "outputs": [
    {
     "data": {
      "text/plain": [
       "{'metrics': {},\n",
       " 'params': {},\n",
       " 'tags': {'mlflow.source.name': '/home/nakul/.cache/pypoetry/virtualenvs/mlflow-tut-87emS356-py3.12/lib/python3.12/site-packages/ipykernel_launcher.py',\n",
       "  'mlflow.source.type': 'LOCAL',\n",
       "  'mlflow.runName': 'adventurous-carp-264',\n",
       "  'mlflow.user': 'nakul'}}"
      ]
     },
     "execution_count": 12,
     "metadata": {},
     "output_type": "execute_result"
    }
   ],
   "source": [
    "run.data.to_dictionary()"
   ]
  },
  {
   "cell_type": "code",
   "execution_count": 13,
   "id": "433cf1e4",
   "metadata": {},
   "outputs": [],
   "source": [
    "# We can't have two runs running together, so to end a run do the following\n",
    "mlflow.end_run()"
   ]
  },
  {
   "cell_type": "markdown",
   "id": "b0fed264",
   "metadata": {},
   "source": [
    "## Using Runs as Context Managers"
   ]
  },
  {
   "cell_type": "code",
   "execution_count": 14,
   "id": "a1378d8b",
   "metadata": {},
   "outputs": [
    {
     "name": "stdout",
     "output_type": "stream",
     "text": [
      "Active run_id: 1a8f3c94759f4004a34da7a421e85769\n",
      "Active exp_id: 243891594606546977\n"
     ]
    }
   ],
   "source": [
    "# Now we will start a new run in the experiment\n",
    "with mlflow.start_run() as run:\n",
    "   print(f\"Active run_id: {run.info.run_id}\")\n",
    "   print(f\"Active exp_id: {run.info.experiment_id}\")  "
   ]
  },
  {
   "cell_type": "markdown",
   "id": "43c2386c",
   "metadata": {},
   "source": [
    "## Using MLFlow Client to Manage Runs"
   ]
  },
  {
   "cell_type": "code",
   "execution_count": 21,
   "id": "a12530ef",
   "metadata": {},
   "outputs": [
    {
     "name": "stdout",
     "output_type": "stream",
     "text": [
      "Run\n"
     ]
    }
   ],
   "source": [
    "client = mlflow.MlflowClient()\n",
    "\n",
    "run = client.create_run(experiment_id=exp_id, run_name=\"new-run\")\n",
    "\n",
    "print(type(run).__name__)"
   ]
  },
  {
   "cell_type": "markdown",
   "id": "3cd44c03",
   "metadata": {},
   "source": [
    "## Set tags for Runs"
   ]
  },
  {
   "cell_type": "code",
   "execution_count": 23,
   "id": "f525b0b7",
   "metadata": {},
   "outputs": [],
   "source": [
    "client.set_tag(run.info.run_id, \"my-tag\", \"my-tag-value\") \n",
    "client.set_tag(run.info.run_id, \"mlflow.note.content\", \"This is a description provided using the client\") "
   ]
  },
  {
   "cell_type": "markdown",
   "id": "b70597b1",
   "metadata": {},
   "source": [
    "## Nested Runs using Parent Run"
   ]
  },
  {
   "cell_type": "code",
   "execution_count": 24,
   "id": "7384848a",
   "metadata": {},
   "outputs": [
    {
     "name": "stdout",
     "output_type": "stream",
     "text": [
      "Parent run_id:  fe414cce82304c6dbc18cdb9604d26d9\n",
      "Child run_id:  cf1de562977e41b88b43ac42673d71b0\n",
      "Grandchild run_id:  e6a6d5a505b14716a4ab5cbc3c761013\n"
     ]
    }
   ],
   "source": [
    "with mlflow.start_run(run_name=\"parent\") as parent_run:\n",
    "   print(\"Parent run_id: \", parent_run.info.run_id)\n",
    "   mlflow.log_param(\"parent param1\", 2)\n",
    "\n",
    "with mlflow.start_run(run_name=\"child\", parent_run_id=parent_run.info.run_id) as child_run:\n",
    "   print(\"Child run_id: \", child_run.info.run_id)\n",
    "   mlflow.log_param(\"child param1\", 23)\n",
    "\n",
    "with mlflow.start_run(run_name=\"grandchild\", parent_run_id=child_run.info.run_id) as grandchild_run:\n",
    "   print(\"Grandchild run_id: \", grandchild_run.info.run_id)\n",
    "   mlflow.log_param(\"grandchild param1\", 234)\n",
    "\n"
   ]
  },
  {
   "cell_type": "markdown",
   "id": "8afea208",
   "metadata": {},
   "source": [
    "## Logging Metrics"
   ]
  },
  {
   "cell_type": "code",
   "execution_count": 29,
   "id": "8ee648c2",
   "metadata": {},
   "outputs": [
    {
     "name": "stdout",
     "output_type": "stream",
     "text": [
      "Logged metrics: {'m1': 1, 'm2': 2, 'm3': 3}\n"
     ]
    },
    {
     "data": {
      "text/plain": [
       "info {\n",
       "  run_uuid: \"50c23ab84a8b4ecdbb611e54501cd51b\"\n",
       "  experiment_id: \"243891594606546977\"\n",
       "  run_name: \"logging_metrics\"\n",
       "  user_id: \"nakul\"\n",
       "  status: RUNNING\n",
       "  start_time: 1749539146584\n",
       "  artifact_uri: \"/home/nakul/devfiles/Python/mlflow-tut/src/mlflow_tut/../../mlruns/243891594606546977/50c23ab84a8b4ecdbb611e54501cd51b/artifacts\"\n",
       "  lifecycle_stage: \"active\"\n",
       "  run_id: \"50c23ab84a8b4ecdbb611e54501cd51b\"\n",
       "}\n",
       "data {\n",
       "  tags {\n",
       "    key: \"mlflow.source.name\"\n",
       "    value: \"/home/nakul/.cache/pypoetry/virtualenvs/mlflow-tut-87emS356-py3.12/lib/python3.12/site-packages/ipykernel_launcher.py\"\n",
       "  }\n",
       "  tags {\n",
       "    key: \"mlflow.source.type\"\n",
       "    value: \"LOCAL\"\n",
       "  }\n",
       "  tags {\n",
       "    key: \"mlflow.runName\"\n",
       "    value: \"logging_metrics\"\n",
       "  }\n",
       "  tags {\n",
       "    key: \"mlflow.user\"\n",
       "    value: \"nakul\"\n",
       "  }\n",
       "}"
      ]
     },
     "execution_count": 29,
     "metadata": {},
     "output_type": "execute_result"
    }
   ],
   "source": [
    "metrics = {\n",
    "   \"m1\" : 1,\n",
    "   \"m2\" : 2,\n",
    "   \"m3\" : 3,\n",
    "}\n",
    "\n",
    "with mlflow.start_run(run_name=\"logging_metrics\") as run:\n",
    "   mlflow.log_metrics(metrics, run_id=run.info.run_id)\n",
    "   print(f\"Logged metrics: {metrics}\")\n",
    "\n",
    "run.to_proto()"
   ]
  },
  {
   "cell_type": "markdown",
   "id": "28972dba",
   "metadata": {},
   "source": [
    "## Logging Artifacts"
   ]
  },
  {
   "cell_type": "code",
   "execution_count": 35,
   "id": "07516d9d",
   "metadata": {},
   "outputs": [
    {
     "name": "stdout",
     "output_type": "stream",
     "text": [
      "logging_metrics\n"
     ]
    }
   ],
   "source": [
    "run = client.get_run(run_id=run.info.run_id)\n",
    "\n",
    "print(run.info.run_name)"
   ]
  },
  {
   "cell_type": "code",
   "execution_count": 36,
   "id": "2d9c19f5",
   "metadata": {},
   "outputs": [],
   "source": [
    "client.log_artifacts(run.info.run_id, local_dir=\"../../data/experiments\", artifact_path=\"my_artifacts\")"
   ]
  },
  {
   "cell_type": "markdown",
   "id": "91c24bde",
   "metadata": {},
   "source": [
    "## Logging Models with Example Data"
   ]
  },
  {
   "cell_type": "code",
   "execution_count": 37,
   "id": "d9e151bb",
   "metadata": {},
   "outputs": [],
   "source": [
    "from sklearn.ensemble import RandomForestClassifier\n",
    "from sklearn.datasets import load_iris"
   ]
  },
  {
   "cell_type": "code",
   "execution_count": 38,
   "id": "3b422099",
   "metadata": {},
   "outputs": [],
   "source": [
    "rfc = RandomForestClassifier(n_estimators=2)"
   ]
  },
  {
   "cell_type": "code",
   "execution_count": 39,
   "id": "ab28015c",
   "metadata": {},
   "outputs": [],
   "source": [
    "iris = load_iris(as_frame=True)\n",
    "x = iris.data\n",
    "y = iris.target"
   ]
  },
  {
   "cell_type": "code",
   "execution_count": 40,
   "id": "433418a6",
   "metadata": {},
   "outputs": [
    {
     "data": {
      "text/html": [
       "<div>\n",
       "<style scoped>\n",
       "    .dataframe tbody tr th:only-of-type {\n",
       "        vertical-align: middle;\n",
       "    }\n",
       "\n",
       "    .dataframe tbody tr th {\n",
       "        vertical-align: top;\n",
       "    }\n",
       "\n",
       "    .dataframe thead th {\n",
       "        text-align: right;\n",
       "    }\n",
       "</style>\n",
       "<table border=\"1\" class=\"dataframe\">\n",
       "  <thead>\n",
       "    <tr style=\"text-align: right;\">\n",
       "      <th></th>\n",
       "      <th>sepal length (cm)</th>\n",
       "      <th>sepal width (cm)</th>\n",
       "      <th>petal length (cm)</th>\n",
       "      <th>petal width (cm)</th>\n",
       "    </tr>\n",
       "  </thead>\n",
       "  <tbody>\n",
       "    <tr>\n",
       "      <th>0</th>\n",
       "      <td>5.1</td>\n",
       "      <td>3.5</td>\n",
       "      <td>1.4</td>\n",
       "      <td>0.2</td>\n",
       "    </tr>\n",
       "    <tr>\n",
       "      <th>1</th>\n",
       "      <td>4.9</td>\n",
       "      <td>3.0</td>\n",
       "      <td>1.4</td>\n",
       "      <td>0.2</td>\n",
       "    </tr>\n",
       "    <tr>\n",
       "      <th>2</th>\n",
       "      <td>4.7</td>\n",
       "      <td>3.2</td>\n",
       "      <td>1.3</td>\n",
       "      <td>0.2</td>\n",
       "    </tr>\n",
       "    <tr>\n",
       "      <th>3</th>\n",
       "      <td>4.6</td>\n",
       "      <td>3.1</td>\n",
       "      <td>1.5</td>\n",
       "      <td>0.2</td>\n",
       "    </tr>\n",
       "    <tr>\n",
       "      <th>4</th>\n",
       "      <td>5.0</td>\n",
       "      <td>3.6</td>\n",
       "      <td>1.4</td>\n",
       "      <td>0.2</td>\n",
       "    </tr>\n",
       "    <tr>\n",
       "      <th>...</th>\n",
       "      <td>...</td>\n",
       "      <td>...</td>\n",
       "      <td>...</td>\n",
       "      <td>...</td>\n",
       "    </tr>\n",
       "    <tr>\n",
       "      <th>145</th>\n",
       "      <td>6.7</td>\n",
       "      <td>3.0</td>\n",
       "      <td>5.2</td>\n",
       "      <td>2.3</td>\n",
       "    </tr>\n",
       "    <tr>\n",
       "      <th>146</th>\n",
       "      <td>6.3</td>\n",
       "      <td>2.5</td>\n",
       "      <td>5.0</td>\n",
       "      <td>1.9</td>\n",
       "    </tr>\n",
       "    <tr>\n",
       "      <th>147</th>\n",
       "      <td>6.5</td>\n",
       "      <td>3.0</td>\n",
       "      <td>5.2</td>\n",
       "      <td>2.0</td>\n",
       "    </tr>\n",
       "    <tr>\n",
       "      <th>148</th>\n",
       "      <td>6.2</td>\n",
       "      <td>3.4</td>\n",
       "      <td>5.4</td>\n",
       "      <td>2.3</td>\n",
       "    </tr>\n",
       "    <tr>\n",
       "      <th>149</th>\n",
       "      <td>5.9</td>\n",
       "      <td>3.0</td>\n",
       "      <td>5.1</td>\n",
       "      <td>1.8</td>\n",
       "    </tr>\n",
       "  </tbody>\n",
       "</table>\n",
       "<p>150 rows × 4 columns</p>\n",
       "</div>"
      ],
      "text/plain": [
       "     sepal length (cm)  sepal width (cm)  petal length (cm)  petal width (cm)\n",
       "0                  5.1               3.5                1.4               0.2\n",
       "1                  4.9               3.0                1.4               0.2\n",
       "2                  4.7               3.2                1.3               0.2\n",
       "3                  4.6               3.1                1.5               0.2\n",
       "4                  5.0               3.6                1.4               0.2\n",
       "..                 ...               ...                ...               ...\n",
       "145                6.7               3.0                5.2               2.3\n",
       "146                6.3               2.5                5.0               1.9\n",
       "147                6.5               3.0                5.2               2.0\n",
       "148                6.2               3.4                5.4               2.3\n",
       "149                5.9               3.0                5.1               1.8\n",
       "\n",
       "[150 rows x 4 columns]"
      ]
     },
     "execution_count": 40,
     "metadata": {},
     "output_type": "execute_result"
    }
   ],
   "source": [
    "x"
   ]
  },
  {
   "cell_type": "code",
   "execution_count": 41,
   "id": "560f3252",
   "metadata": {},
   "outputs": [
    {
     "data": {
      "text/html": [
       "<div>\n",
       "<style scoped>\n",
       "    .dataframe tbody tr th:only-of-type {\n",
       "        vertical-align: middle;\n",
       "    }\n",
       "\n",
       "    .dataframe tbody tr th {\n",
       "        vertical-align: top;\n",
       "    }\n",
       "\n",
       "    .dataframe thead th {\n",
       "        text-align: right;\n",
       "    }\n",
       "</style>\n",
       "<table border=\"1\" class=\"dataframe\">\n",
       "  <thead>\n",
       "    <tr style=\"text-align: right;\">\n",
       "      <th></th>\n",
       "      <th>sepal length (cm)</th>\n",
       "      <th>sepal width (cm)</th>\n",
       "      <th>petal length (cm)</th>\n",
       "      <th>petal width (cm)</th>\n",
       "    </tr>\n",
       "  </thead>\n",
       "  <tbody>\n",
       "    <tr>\n",
       "      <th>0</th>\n",
       "      <td>5.1</td>\n",
       "      <td>3.5</td>\n",
       "      <td>1.4</td>\n",
       "      <td>0.2</td>\n",
       "    </tr>\n",
       "    <tr>\n",
       "      <th>1</th>\n",
       "      <td>4.9</td>\n",
       "      <td>3.0</td>\n",
       "      <td>1.4</td>\n",
       "      <td>0.2</td>\n",
       "    </tr>\n",
       "    <tr>\n",
       "      <th>2</th>\n",
       "      <td>4.7</td>\n",
       "      <td>3.2</td>\n",
       "      <td>1.3</td>\n",
       "      <td>0.2</td>\n",
       "    </tr>\n",
       "    <tr>\n",
       "      <th>3</th>\n",
       "      <td>4.6</td>\n",
       "      <td>3.1</td>\n",
       "      <td>1.5</td>\n",
       "      <td>0.2</td>\n",
       "    </tr>\n",
       "    <tr>\n",
       "      <th>4</th>\n",
       "      <td>5.0</td>\n",
       "      <td>3.6</td>\n",
       "      <td>1.4</td>\n",
       "      <td>0.2</td>\n",
       "    </tr>\n",
       "    <tr>\n",
       "      <th>5</th>\n",
       "      <td>5.4</td>\n",
       "      <td>3.9</td>\n",
       "      <td>1.7</td>\n",
       "      <td>0.4</td>\n",
       "    </tr>\n",
       "    <tr>\n",
       "      <th>6</th>\n",
       "      <td>4.6</td>\n",
       "      <td>3.4</td>\n",
       "      <td>1.4</td>\n",
       "      <td>0.3</td>\n",
       "    </tr>\n",
       "    <tr>\n",
       "      <th>7</th>\n",
       "      <td>5.0</td>\n",
       "      <td>3.4</td>\n",
       "      <td>1.5</td>\n",
       "      <td>0.2</td>\n",
       "    </tr>\n",
       "    <tr>\n",
       "      <th>8</th>\n",
       "      <td>4.4</td>\n",
       "      <td>2.9</td>\n",
       "      <td>1.4</td>\n",
       "      <td>0.2</td>\n",
       "    </tr>\n",
       "    <tr>\n",
       "      <th>9</th>\n",
       "      <td>4.9</td>\n",
       "      <td>3.1</td>\n",
       "      <td>1.5</td>\n",
       "      <td>0.1</td>\n",
       "    </tr>\n",
       "  </tbody>\n",
       "</table>\n",
       "</div>"
      ],
      "text/plain": [
       "   sepal length (cm)  sepal width (cm)  petal length (cm)  petal width (cm)\n",
       "0                5.1               3.5                1.4               0.2\n",
       "1                4.9               3.0                1.4               0.2\n",
       "2                4.7               3.2                1.3               0.2\n",
       "3                4.6               3.1                1.5               0.2\n",
       "4                5.0               3.6                1.4               0.2\n",
       "5                5.4               3.9                1.7               0.4\n",
       "6                4.6               3.4                1.4               0.3\n",
       "7                5.0               3.4                1.5               0.2\n",
       "8                4.4               2.9                1.4               0.2\n",
       "9                4.9               3.1                1.5               0.1"
      ]
     },
     "execution_count": 41,
     "metadata": {},
     "output_type": "execute_result"
    }
   ],
   "source": [
    "input_example = x.iloc[:10]\n",
    "input_example"
   ]
  },
  {
   "cell_type": "code",
   "execution_count": 44,
   "id": "4e389a74",
   "metadata": {},
   "outputs": [
    {
     "data": {
      "text/plain": [
       "'RandomForestClassifier'"
      ]
     },
     "execution_count": 44,
     "metadata": {},
     "output_type": "execute_result"
    }
   ],
   "source": [
    "rfc.__class__.__name__"
   ]
  },
  {
   "cell_type": "code",
   "execution_count": 46,
   "id": "fb8d386f",
   "metadata": {},
   "outputs": [
    {
     "name": "stderr",
     "output_type": "stream",
     "text": [
      "2025/06/10 07:41:31 WARNING mlflow.models.signature: Failed to infer the model signature from the input example. Reason: NotFittedError(\"This RandomForestClassifier instance is not fitted yet. Call 'fit' with appropriate arguments before using this estimator.\"). To see the full traceback, set the logging level to DEBUG via `logging.getLogger(\"mlflow\").setLevel(logging.DEBUG)`.\n",
      "2025/06/10 07:41:33 WARNING mlflow.models.model: Failed to validate serving input example {\n",
      "  \"dataframe_split\": {\n",
      "    \"columns\": [\n",
      "      \"sepal length (cm)\",\n",
      "      \"sepal width (cm)\",\n",
      "      \"petal length (cm)\",\n",
      "      \"petal width (cm)\"\n",
      "    ],\n",
      "    \"data\": [\n",
      "      [\n",
      "        5.1,\n",
      "        3.5,\n",
      "        1.4,\n",
      "        0.2\n",
      "      ],\n",
      "      [\n",
      "        4.9,\n",
      "        3.0,\n",
      "        1.4,\n",
      "        0.2\n",
      "      ],\n",
      "      [\n",
      "        4.7,\n",
      "        3.2,\n",
      "        1.3,\n",
      "        0.2\n",
      "      ],\n",
      "      [\n",
      "        4.6,\n",
      "        3.1,\n",
      "        1.5,\n",
      "        0.2\n",
      "      ],\n",
      "      [\n",
      "        5.0,\n",
      "        3.6,\n",
      "        1.4,\n",
      "        0.2\n",
      "      ],\n",
      "      [\n",
      "        5.4,\n",
      "        3.9,\n",
      "        1.7,\n",
      "        0.4\n",
      "      ],\n",
      "      [\n",
      "        4.6,\n",
      "        3.4,\n",
      "        1.4,\n",
      "        0.3\n",
      "      ],\n",
      "      [\n",
      "        5.0,\n",
      "        3.4,\n",
      "        1.5,\n",
      "        0.2\n",
      "      ],\n",
      "      [\n",
      "        4.4,\n",
      "        2.9,\n",
      "        1.4,\n",
      "        0.2\n",
      "      ],\n",
      "      [\n",
      "        4.9,\n",
      "        3.1,\n",
      "        1.5,\n",
      "        0.1\n",
      "      ]\n",
      "    ]\n",
      "  }\n",
      "}. Alternatively, you can avoid passing input example and pass model signature instead when logging the model. To ensure the input example is valid prior to serving, please try calling `mlflow.models.validate_serving_input` on the model uri and serving input example. A serving input example can be generated from model input example using `mlflow.models.convert_input_example_to_serving_input` function.\n",
      "Got error: This RandomForestClassifier instance is not fitted yet. Call 'fit' with appropriate arguments before using this estimator.\n"
     ]
    }
   ],
   "source": [
    "import mlflow.sklearn\n",
    "\n",
    "with mlflow.start_run(run_name=\"logging_model\") as run:\n",
    "   mlflow.sklearn.log_model(\n",
    "      sk_model=rfc,\n",
    "      artifact_path=rfc.__class__.__name__,\n",
    "      input_example=input_example\n",
    "   )"
   ]
  },
  {
   "cell_type": "code",
   "execution_count": null,
   "id": "4470da70",
   "metadata": {},
   "outputs": [],
   "source": []
  }
 ],
 "metadata": {
  "kernelspec": {
   "display_name": "mlflow-tut-87emS356-py3.12",
   "language": "python",
   "name": "python3"
  },
  "language_info": {
   "codemirror_mode": {
    "name": "ipython",
    "version": 3
   },
   "file_extension": ".py",
   "mimetype": "text/x-python",
   "name": "python",
   "nbconvert_exporter": "python",
   "pygments_lexer": "ipython3",
   "version": "3.12.3"
  }
 },
 "nbformat": 4,
 "nbformat_minor": 5
}
