{
 "cells": [
  {
   "cell_type": "code",
   "execution_count": 2,
   "id": "37bf3767",
   "metadata": {},
   "outputs": [],
   "source": [
    "import mlflow\n",
    "# import torch"
   ]
  },
  {
   "cell_type": "code",
   "execution_count": 3,
   "id": "0aa2d19c",
   "metadata": {},
   "outputs": [],
   "source": [
    "# set mlflow tracking uri (location to store exp and run data)\n",
    "mlflow.set_tracking_uri(uri=\"../../mlruns\")"
   ]
  },
  {
   "cell_type": "code",
   "execution_count": 4,
   "id": "931497be",
   "metadata": {},
   "outputs": [],
   "source": [
    "client = mlflow.MlflowClient()"
   ]
  },
  {
   "cell_type": "markdown",
   "id": "6666dc63",
   "metadata": {},
   "source": [
    "## Creating and Setting Experiments"
   ]
  },
  {
   "cell_type": "code",
   "execution_count": 5,
   "id": "10179fd2",
   "metadata": {},
   "outputs": [
    {
     "name": "stdout",
     "output_type": "stream",
     "text": [
      "Experiment already exists with ID: 243891594606546977\n"
     ]
    }
   ],
   "source": [
    "exp_name = \"creating-experiments\"\n",
    "\n",
    "experiment = client.get_experiment_by_name(exp_name)\n",
    "\n",
    "if experiment is None:\n",
    "   exp_id = client.create_experiment(\"creating-experiments\", tags={\n",
    "      \"topic\": \"experiment-management\",\n",
    "      \"version\": \"v1\"\n",
    "   })\n",
    "\n",
    "   print(f\"Experiment created with ID: {exp_id}\")\n",
    "\n",
    "else:\n",
    "   exp_id = experiment.experiment_id\n",
    "   print(f\"Experiment already exists with ID: {exp_id}\")"
   ]
  },
  {
   "cell_type": "code",
   "execution_count": 6,
   "id": "7bf5018a",
   "metadata": {},
   "outputs": [
    {
     "data": {
      "text/plain": [
       "experiment_id: \"243891594606546977\"\n",
       "name: \"creating-experiments\"\n",
       "artifact_location: \"/home/nakul/devfiles/Python/mlflow-tut/src/mlflow_tut/../../mlruns/243891594606546977\"\n",
       "lifecycle_stage: \"active\"\n",
       "last_update_time: 1749488386349\n",
       "creation_time: 1749488386349\n",
       "tags {\n",
       "  key: \"version\"\n",
       "  value: \"v2\"\n",
       "}\n",
       "tags {\n",
       "  key: \"new-tag\"\n",
       "  value: \"updated-value\"\n",
       "}\n",
       "tags {\n",
       "  key: \"mlflow.note.content\"\n",
       "  value: \"This is the description for the experiment\"\n",
       "}\n",
       "tags {\n",
       "  key: \"topic\"\n",
       "  value: \"experiment-management\"\n",
       "}"
      ]
     },
     "execution_count": 6,
     "metadata": {},
     "output_type": "execute_result"
    }
   ],
   "source": [
    "# Setting the current experiment as the one we created above\n",
    "experiment = mlflow.set_experiment(experiment_id=exp_id)\n",
    "\n",
    "# Here, if an experiment with the given exp_name doesn't exist, mlflow will on its own create a new experiment and set it to current with the given exp_name. The drawback here is we cant pass artifact locations or tags directly in set_experiment() function\n",
    "\n",
    "# But this wont work when we are passing exp_id to set_experiment(). If exp with exp_id doesn't exist then it will show err.\n",
    "\n",
    "# Get experiment details\n",
    "experiment.to_proto()"
   ]
  },
  {
   "cell_type": "markdown",
   "id": "bf7713e6",
   "metadata": {},
   "source": [
    "## Updating an Experiment"
   ]
  },
  {
   "cell_type": "code",
   "execution_count": 7,
   "id": "4e562d78",
   "metadata": {},
   "outputs": [],
   "source": [
    "# Update the current experiment\n",
    "mlflow.set_experiment_tag(\"new-tag\", \"new-value\")\n",
    "client.set_experiment_tag(exp_id, \"new-tag\", \"newer-value\")\n",
    "mlflow.set_experiment_tags({\n",
    "   \"new-tag\":\"updated-value\",\n",
    "   \"version\": \"v2\"\n",
    "})"
   ]
  },
  {
   "cell_type": "markdown",
   "id": "33391e14",
   "metadata": {},
   "source": [
    "## Special Tags"
   ]
  },
  {
   "cell_type": "code",
   "execution_count": 8,
   "id": "4aedcbf9",
   "metadata": {},
   "outputs": [],
   "source": [
    "# This tag sets the description for the experiment which can be viewed in mlflow ui\n",
    "mlflow.set_experiment_tag(\"mlflow.note.content\", \"This is the description for the experiment\")"
   ]
  },
  {
   "cell_type": "markdown",
   "id": "145fe7e3",
   "metadata": {},
   "source": [
    "## Starting a New Run"
   ]
  },
  {
   "cell_type": "code",
   "execution_count": 9,
   "id": "c2336b6a",
   "metadata": {},
   "outputs": [],
   "source": [
    "# Or we can create a run object\n",
    "run = mlflow.start_run()"
   ]
  },
  {
   "cell_type": "code",
   "execution_count": 10,
   "id": "fad1f32d",
   "metadata": {},
   "outputs": [
    {
     "name": "stdout",
     "output_type": "stream",
     "text": [
      "ActiveRun\n"
     ]
    }
   ],
   "source": [
    "print(type(run).__name__)"
   ]
  },
  {
   "cell_type": "code",
   "execution_count": 11,
   "id": "c37948d6",
   "metadata": {},
   "outputs": [
    {
     "data": {
      "text/plain": [
       "run_uuid: \"c5f27d40fea14f5c8e4a45c54b6727fe\"\n",
       "experiment_id: \"243891594606546977\"\n",
       "run_name: \"adventurous-carp-264\"\n",
       "user_id: \"nakul\"\n",
       "status: RUNNING\n",
       "start_time: 1749533095553\n",
       "artifact_uri: \"/home/nakul/devfiles/Python/mlflow-tut/src/mlflow_tut/../../mlruns/243891594606546977/c5f27d40fea14f5c8e4a45c54b6727fe/artifacts\"\n",
       "lifecycle_stage: \"active\"\n",
       "run_id: \"c5f27d40fea14f5c8e4a45c54b6727fe\""
      ]
     },
     "execution_count": 11,
     "metadata": {},
     "output_type": "execute_result"
    }
   ],
   "source": [
    "run.info.to_proto()"
   ]
  },
  {
   "cell_type": "code",
   "execution_count": 12,
   "id": "6f5df485",
   "metadata": {},
   "outputs": [
    {
     "data": {
      "text/plain": [
       "{'metrics': {},\n",
       " 'params': {},\n",
       " 'tags': {'mlflow.source.name': '/home/nakul/.cache/pypoetry/virtualenvs/mlflow-tut-87emS356-py3.12/lib/python3.12/site-packages/ipykernel_launcher.py',\n",
       "  'mlflow.source.type': 'LOCAL',\n",
       "  'mlflow.runName': 'adventurous-carp-264',\n",
       "  'mlflow.user': 'nakul'}}"
      ]
     },
     "execution_count": 12,
     "metadata": {},
     "output_type": "execute_result"
    }
   ],
   "source": [
    "run.data.to_dictionary()"
   ]
  },
  {
   "cell_type": "code",
   "execution_count": 13,
   "id": "433cf1e4",
   "metadata": {},
   "outputs": [],
   "source": [
    "# We can't have two runs running together, so to end a run do the following\n",
    "mlflow.end_run()"
   ]
  },
  {
   "cell_type": "markdown",
   "id": "b0fed264",
   "metadata": {},
   "source": [
    "## Using Runs as Context Managers"
   ]
  },
  {
   "cell_type": "code",
   "execution_count": 14,
   "id": "a1378d8b",
   "metadata": {},
   "outputs": [
    {
     "name": "stdout",
     "output_type": "stream",
     "text": [
      "Active run_id: 1a8f3c94759f4004a34da7a421e85769\n",
      "Active exp_id: 243891594606546977\n"
     ]
    }
   ],
   "source": [
    "# Now we will start a new run in the experiment\n",
    "with mlflow.start_run() as run:\n",
    "   print(f\"Active run_id: {run.info.run_id}\")\n",
    "   print(f\"Active exp_id: {run.info.experiment_id}\")  "
   ]
  },
  {
   "cell_type": "markdown",
   "id": "43c2386c",
   "metadata": {},
   "source": [
    "## Using MLFlow Client to Manage Runs"
   ]
  },
  {
   "cell_type": "code",
   "execution_count": 21,
   "id": "a12530ef",
   "metadata": {},
   "outputs": [
    {
     "name": "stdout",
     "output_type": "stream",
     "text": [
      "Run\n"
     ]
    }
   ],
   "source": [
    "client = mlflow.MlflowClient()\n",
    "\n",
    "run = client.create_run(experiment_id=exp_id, run_name=\"new-run\")\n",
    "\n",
    "print(type(run).__name__)"
   ]
  },
  {
   "cell_type": "markdown",
   "id": "3cd44c03",
   "metadata": {},
   "source": [
    "## Set tags for Runs"
   ]
  },
  {
   "cell_type": "code",
   "execution_count": 23,
   "id": "f525b0b7",
   "metadata": {},
   "outputs": [],
   "source": [
    "client.set_tag(run.info.run_id, \"my-tag\", \"my-tag-value\") \n",
    "client.set_tag(run.info.run_id, \"mlflow.note.content\", \"This is a description provided using the client\") "
   ]
  },
  {
   "cell_type": "markdown",
   "id": "b70597b1",
   "metadata": {},
   "source": [
    "## Nested Runs using Parent Run"
   ]
  },
  {
   "cell_type": "code",
   "execution_count": 24,
   "id": "7384848a",
   "metadata": {},
   "outputs": [
    {
     "name": "stdout",
     "output_type": "stream",
     "text": [
      "Parent run_id:  fe414cce82304c6dbc18cdb9604d26d9\n",
      "Child run_id:  cf1de562977e41b88b43ac42673d71b0\n",
      "Grandchild run_id:  e6a6d5a505b14716a4ab5cbc3c761013\n"
     ]
    }
   ],
   "source": [
    "with mlflow.start_run(run_name=\"parent\") as parent_run:\n",
    "   print(\"Parent run_id: \", parent_run.info.run_id)\n",
    "   mlflow.log_param(\"parent param1\", 2)\n",
    "\n",
    "with mlflow.start_run(run_name=\"child\", parent_run_id=parent_run.info.run_id) as child_run:\n",
    "   print(\"Child run_id: \", child_run.info.run_id)\n",
    "   mlflow.log_param(\"child param1\", 23)\n",
    "\n",
    "with mlflow.start_run(run_name=\"grandchild\", parent_run_id=child_run.info.run_id) as grandchild_run:\n",
    "   print(\"Grandchild run_id: \", grandchild_run.info.run_id)\n",
    "   mlflow.log_param(\"grandchild param1\", 234)\n",
    "\n"
   ]
  },
  {
   "cell_type": "code",
   "execution_count": null,
   "id": "8ee648c2",
   "metadata": {},
   "outputs": [],
   "source": []
  }
 ],
 "metadata": {
  "kernelspec": {
   "display_name": "mlflow-tut-87emS356-py3.12",
   "language": "python",
   "name": "python3"
  },
  "language_info": {
   "codemirror_mode": {
    "name": "ipython",
    "version": 3
   },
   "file_extension": ".py",
   "mimetype": "text/x-python",
   "name": "python",
   "nbconvert_exporter": "python",
   "pygments_lexer": "ipython3",
   "version": "3.12.3"
  }
 },
 "nbformat": 4,
 "nbformat_minor": 5
}
