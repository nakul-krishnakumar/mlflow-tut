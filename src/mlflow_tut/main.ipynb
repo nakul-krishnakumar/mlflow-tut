{
 "cells": [
  {
   "cell_type": "code",
   "execution_count": 1,
   "id": "37bf3767",
   "metadata": {},
   "outputs": [],
   "source": [
    "import mlflow\n",
    "# import torch"
   ]
  },
  {
   "cell_type": "code",
   "execution_count": 7,
   "id": "0aa2d19c",
   "metadata": {},
   "outputs": [],
   "source": [
    "# set mlflow tracking uri (location to store exp and run data)\n",
    "mlflow.set_tracking_uri(uri=\"../../mlruns\")"
   ]
  },
  {
   "cell_type": "code",
   "execution_count": 23,
   "id": "931497be",
   "metadata": {},
   "outputs": [],
   "source": [
    "client = mlflow.MlflowClient()"
   ]
  },
  {
   "cell_type": "markdown",
   "id": "6666dc63",
   "metadata": {},
   "source": [
    "## Creating and Setting Experiments"
   ]
  },
  {
   "cell_type": "code",
   "execution_count": 24,
   "id": "10179fd2",
   "metadata": {},
   "outputs": [
    {
     "name": "stdout",
     "output_type": "stream",
     "text": [
      "Experiment already exists with ID: 243891594606546977\n"
     ]
    }
   ],
   "source": [
    "exp_name = \"creating-experiments\"\n",
    "\n",
    "experiment = client.get_experiment_by_name(exp_name)\n",
    "\n",
    "if experiment is None:\n",
    "   exp_id = client.create_experiment(\"creating-experiments\", tags={\n",
    "      \"topic\": \"experiment-management\",\n",
    "      \"version\": \"v1\"\n",
    "   })\n",
    "\n",
    "   print(f\"Experiment created with ID: {exp_id}\")\n",
    "\n",
    "else:\n",
    "   exp_id = experiment.experiment_id\n",
    "   print(f\"Experiment already exists with ID: {exp_id}\")"
   ]
  },
  {
   "cell_type": "code",
   "execution_count": 29,
   "id": "7bf5018a",
   "metadata": {},
   "outputs": [
    {
     "data": {
      "text/plain": [
       "experiment_id: \"243891594606546977\"\n",
       "name: \"creating-experiments\"\n",
       "artifact_location: \"/home/nakul/devfiles/Python/mlflow-tut/src/mlflow_tut/../../mlruns/243891594606546977\"\n",
       "lifecycle_stage: \"active\"\n",
       "last_update_time: 1749488386349\n",
       "creation_time: 1749488386349\n",
       "tags {\n",
       "  key: \"version\"\n",
       "  value: \"v2\"\n",
       "}\n",
       "tags {\n",
       "  key: \"new-tag\"\n",
       "  value: \"updated-value\"\n",
       "}\n",
       "tags {\n",
       "  key: \"mlflow.note.content\"\n",
       "  value: \"This is the description for the experiment\"\n",
       "}\n",
       "tags {\n",
       "  key: \"topic\"\n",
       "  value: \"experiment-management\"\n",
       "}"
      ]
     },
     "execution_count": 29,
     "metadata": {},
     "output_type": "execute_result"
    }
   ],
   "source": [
    "# Setting the current experiment as the one we created above\n",
    "experiment = mlflow.set_experiment(experiment_id=exp_id)\n",
    "\n",
    "# Here, if an experiment with the given exp_name doesn't exist, mlflow will on its own create a new experiment and set it to current with the given exp_name. The drawback here is we cant pass artifact locations or tags directly in set_experiment() function\n",
    "\n",
    "# But this wont work when we are passing exp_id to set_experiment(). If exp with exp_id doesn't exist then it will show err.\n",
    "\n",
    "# Get experiment details\n",
    "experiment.to_proto()"
   ]
  },
  {
   "cell_type": "markdown",
   "id": "bf7713e6",
   "metadata": {},
   "source": [
    "## Updating an Experiment"
   ]
  },
  {
   "cell_type": "code",
   "execution_count": 28,
   "id": "4e562d78",
   "metadata": {},
   "outputs": [],
   "source": [
    "# Update the current experiment\n",
    "mlflow.set_experiment_tag(\"new-tag\", \"new-value\")\n",
    "client.set_experiment_tag(exp_id, \"new-tag\", \"newer-value\")\n",
    "mlflow.set_experiment_tags({\n",
    "   \"new-tag\":\"updated-value\",\n",
    "   \"version\": \"v2\"\n",
    "})"
   ]
  },
  {
   "cell_type": "markdown",
   "id": "33391e14",
   "metadata": {},
   "source": [
    "## Special Tags"
   ]
  },
  {
   "cell_type": "code",
   "execution_count": 22,
   "id": "4aedcbf9",
   "metadata": {},
   "outputs": [],
   "source": [
    "# This tag sets the description for the experiment which can be viewed in mlflow ui\n",
    "mlflow.set_experiment_tag(\"mlflow.note.content\", \"This is the description for the experiment\")"
   ]
  },
  {
   "cell_type": "markdown",
   "id": "145fe7e3",
   "metadata": {},
   "source": [
    "## Starting a New Run"
   ]
  },
  {
   "cell_type": "code",
   "execution_count": null,
   "id": "a1378d8b",
   "metadata": {},
   "outputs": [
    {
     "name": "stdout",
     "output_type": "stream",
     "text": [
      "Active run_id: 6b4cf95a95c5428a8469d4afbcc4952a\n",
      "Active exp_id: 243891594606546977\n"
     ]
    }
   ],
   "source": [
    "# Now we will start a new run in the experiment\n",
    "with mlflow.start_run() as run:\n",
    "   print(f\"Active run_id: {run.info.run_id}\")\n",
    "   print(f\"Active exp_id: {run.info.experiment_id}\")  "
   ]
  },
  {
   "cell_type": "code",
   "execution_count": 30,
   "id": "c2336b6a",
   "metadata": {},
   "outputs": [],
   "source": [
    "# Or we can create a run object\n",
    "run = mlflow.start_run()"
   ]
  },
  {
   "cell_type": "code",
   "execution_count": 33,
   "id": "fad1f32d",
   "metadata": {},
   "outputs": [
    {
     "name": "stdout",
     "output_type": "stream",
     "text": [
      "ActiveRun\n"
     ]
    }
   ],
   "source": [
    "print(type(run).__name__)"
   ]
  },
  {
   "cell_type": "code",
   "execution_count": 35,
   "id": "c37948d6",
   "metadata": {},
   "outputs": [
    {
     "data": {
      "text/plain": [
       "run_uuid: \"5521451f6eec43eca344ac594dc59544\"\n",
       "experiment_id: \"243891594606546977\"\n",
       "run_name: \"youthful-fly-340\"\n",
       "user_id: \"nakul\"\n",
       "status: RUNNING\n",
       "start_time: 1749493944338\n",
       "artifact_uri: \"/home/nakul/devfiles/Python/mlflow-tut/src/mlflow_tut/../../mlruns/243891594606546977/5521451f6eec43eca344ac594dc59544/artifacts\"\n",
       "lifecycle_stage: \"active\"\n",
       "run_id: \"5521451f6eec43eca344ac594dc59544\""
      ]
     },
     "execution_count": 35,
     "metadata": {},
     "output_type": "execute_result"
    }
   ],
   "source": [
    "run.info.to_proto()"
   ]
  },
  {
   "cell_type": "code",
   "execution_count": 36,
   "id": "6f5df485",
   "metadata": {},
   "outputs": [
    {
     "data": {
      "text/plain": [
       "{'metrics': {},\n",
       " 'params': {},\n",
       " 'tags': {'mlflow.source.name': '/home/nakul/.cache/pypoetry/virtualenvs/mlflow-tut-87emS356-py3.12/lib/python3.12/site-packages/ipykernel_launcher.py',\n",
       "  'mlflow.source.type': 'LOCAL',\n",
       "  'mlflow.runName': 'youthful-fly-340',\n",
       "  'mlflow.user': 'nakul'}}"
      ]
     },
     "execution_count": 36,
     "metadata": {},
     "output_type": "execute_result"
    }
   ],
   "source": [
    "run.data.to_dictionary()"
   ]
  },
  {
   "cell_type": "code",
   "execution_count": 37,
   "id": "433cf1e4",
   "metadata": {},
   "outputs": [],
   "source": [
    "# We can't have two runs running together, so to end a run do the following\n",
    "mlflow.end_run()"
   ]
  },
  {
   "cell_type": "code",
   "execution_count": null,
   "id": "a12530ef",
   "metadata": {},
   "outputs": [],
   "source": []
  }
 ],
 "metadata": {
  "kernelspec": {
   "display_name": "mlflow-tut-87emS356-py3.12",
   "language": "python",
   "name": "python3"
  },
  "language_info": {
   "codemirror_mode": {
    "name": "ipython",
    "version": 3
   },
   "file_extension": ".py",
   "mimetype": "text/x-python",
   "name": "python",
   "nbconvert_exporter": "python",
   "pygments_lexer": "ipython3",
   "version": "3.12.3"
  }
 },
 "nbformat": 4,
 "nbformat_minor": 5
}
